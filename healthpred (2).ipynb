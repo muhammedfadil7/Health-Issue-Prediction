{
 "cells": [
  {
   "cell_type": "code",
   "execution_count": 28,
   "id": "90cc92c9-da61-4332-9045-c5bc352662ef",
   "metadata": {},
   "outputs": [],
   "source": [
    "import numpy as np\n",
    "import pandas as pd"
   ]
  },
  {
   "cell_type": "code",
   "execution_count": 29,
   "id": "a393658f-1174-4aac-a489-fb0626fc5556",
   "metadata": {},
   "outputs": [
    {
     "data": {
      "text/html": [
       "<div>\n",
       "<style scoped>\n",
       "    .dataframe tbody tr th:only-of-type {\n",
       "        vertical-align: middle;\n",
       "    }\n",
       "\n",
       "    .dataframe tbody tr th {\n",
       "        vertical-align: top;\n",
       "    }\n",
       "\n",
       "    .dataframe thead th {\n",
       "        text-align: right;\n",
       "    }\n",
       "</style>\n",
       "<table border=\"1\" class=\"dataframe\">\n",
       "  <thead>\n",
       "    <tr style=\"text-align: right;\">\n",
       "      <th></th>\n",
       "      <th>Age</th>\n",
       "      <th>Gender</th>\n",
       "      <th>BMI</th>\n",
       "      <th>Blood_Pressure</th>\n",
       "      <th>Cholesterol</th>\n",
       "      <th>Glucose</th>\n",
       "      <th>Heart_Rate</th>\n",
       "      <th>Smoking</th>\n",
       "      <th>Alcohol_Intake</th>\n",
       "      <th>Exercise_Frequency</th>\n",
       "      <th>Sleep_Hours</th>\n",
       "      <th>Health_Issue</th>\n",
       "    </tr>\n",
       "  </thead>\n",
       "  <tbody>\n",
       "    <tr>\n",
       "      <th>0</th>\n",
       "      <td>58</td>\n",
       "      <td>Female</td>\n",
       "      <td>36.4</td>\n",
       "      <td>176</td>\n",
       "      <td>264</td>\n",
       "      <td>184</td>\n",
       "      <td>90</td>\n",
       "      <td>0</td>\n",
       "      <td>0</td>\n",
       "      <td>3</td>\n",
       "      <td>6.1</td>\n",
       "      <td>Diabetes</td>\n",
       "    </tr>\n",
       "    <tr>\n",
       "      <th>1</th>\n",
       "      <td>71</td>\n",
       "      <td>Male</td>\n",
       "      <td>28.3</td>\n",
       "      <td>171</td>\n",
       "      <td>242</td>\n",
       "      <td>76</td>\n",
       "      <td>104</td>\n",
       "      <td>1</td>\n",
       "      <td>1</td>\n",
       "      <td>2</td>\n",
       "      <td>4.0</td>\n",
       "      <td>Heart Disease</td>\n",
       "    </tr>\n",
       "    <tr>\n",
       "      <th>2</th>\n",
       "      <td>48</td>\n",
       "      <td>Male</td>\n",
       "      <td>27.1</td>\n",
       "      <td>128</td>\n",
       "      <td>208</td>\n",
       "      <td>149</td>\n",
       "      <td>65</td>\n",
       "      <td>1</td>\n",
       "      <td>0</td>\n",
       "      <td>2</td>\n",
       "      <td>8.3</td>\n",
       "      <td>Healthy</td>\n",
       "    </tr>\n",
       "    <tr>\n",
       "      <th>3</th>\n",
       "      <td>34</td>\n",
       "      <td>Female</td>\n",
       "      <td>24.0</td>\n",
       "      <td>107</td>\n",
       "      <td>147</td>\n",
       "      <td>166</td>\n",
       "      <td>111</td>\n",
       "      <td>0</td>\n",
       "      <td>0</td>\n",
       "      <td>1</td>\n",
       "      <td>7.7</td>\n",
       "      <td>Healthy</td>\n",
       "    </tr>\n",
       "    <tr>\n",
       "      <th>4</th>\n",
       "      <td>62</td>\n",
       "      <td>Male</td>\n",
       "      <td>19.2</td>\n",
       "      <td>148</td>\n",
       "      <td>185</td>\n",
       "      <td>73</td>\n",
       "      <td>97</td>\n",
       "      <td>0</td>\n",
       "      <td>1</td>\n",
       "      <td>0</td>\n",
       "      <td>8.7</td>\n",
       "      <td>Healthy</td>\n",
       "    </tr>\n",
       "  </tbody>\n",
       "</table>\n",
       "</div>"
      ],
      "text/plain": [
       "   Age  Gender   BMI  Blood_Pressure  ...  Alcohol_Intake  Exercise_Frequency  Sleep_Hours   Health_Issue\n",
       "0   58  Female  36.4             176  ...               0                   3          6.1       Diabetes\n",
       "1   71    Male  28.3             171  ...               1                   2          4.0  Heart Disease\n",
       "2   48    Male  27.1             128  ...               0                   2          8.3        Healthy\n",
       "3   34  Female  24.0             107  ...               0                   1          7.7        Healthy\n",
       "4   62    Male  19.2             148  ...               1                   0          8.7        Healthy\n",
       "\n",
       "[5 rows x 12 columns]"
      ]
     },
     "execution_count": 29,
     "metadata": {},
     "output_type": "execute_result"
    }
   ],
   "source": [
    "df=pd.read_csv(r\"C:\\Users\\91964\\Documents\\PROJECTS\\health testing\\health_issue_prediction_dataset.csv\")\n",
    "df.head()"
   ]
  },
  {
   "cell_type": "code",
   "execution_count": 30,
   "id": "094804e0-a01e-4c9a-8098-e08b47658514",
   "metadata": {},
   "outputs": [
    {
     "name": "stdout",
     "output_type": "stream",
     "text": [
      "<class 'pandas.core.frame.DataFrame'>\n",
      "RangeIndex: 500 entries, 0 to 499\n",
      "Data columns (total 12 columns):\n",
      " #   Column              Non-Null Count  Dtype  \n",
      "---  ------              --------------  -----  \n",
      " 0   Age                 500 non-null    int64  \n",
      " 1   Gender              500 non-null    object \n",
      " 2   BMI                 500 non-null    float64\n",
      " 3   Blood_Pressure      500 non-null    int64  \n",
      " 4   Cholesterol         500 non-null    int64  \n",
      " 5   Glucose             500 non-null    int64  \n",
      " 6   Heart_Rate          500 non-null    int64  \n",
      " 7   Smoking             500 non-null    int64  \n",
      " 8   Alcohol_Intake      500 non-null    int64  \n",
      " 9   Exercise_Frequency  500 non-null    int64  \n",
      " 10  Sleep_Hours         500 non-null    float64\n",
      " 11  Health_Issue        500 non-null    object \n",
      "dtypes: float64(2), int64(8), object(2)\n",
      "memory usage: 47.0+ KB\n"
     ]
    }
   ],
   "source": [
    "df.info()"
   ]
  },
  {
   "cell_type": "code",
   "execution_count": 31,
   "id": "c11ffc63-6d3e-4ef0-83a3-4f8640884934",
   "metadata": {},
   "outputs": [
    {
     "data": {
      "text/plain": [
       "Age                   0\n",
       "Gender                0\n",
       "BMI                   0\n",
       "Blood_Pressure        0\n",
       "Cholesterol           0\n",
       "Glucose               0\n",
       "Heart_Rate            0\n",
       "Smoking               0\n",
       "Alcohol_Intake        0\n",
       "Exercise_Frequency    0\n",
       "Sleep_Hours           0\n",
       "Health_Issue          0\n",
       "dtype: int64"
      ]
     },
     "execution_count": 31,
     "metadata": {},
     "output_type": "execute_result"
    }
   ],
   "source": [
    "df.isna().sum()"
   ]
  },
  {
   "cell_type": "code",
   "execution_count": 32,
   "id": "4d32474b-5bc4-4631-afd7-a9a5e04dd0f8",
   "metadata": {},
   "outputs": [
    {
     "data": {
      "text/html": [
       "<div>\n",
       "<style scoped>\n",
       "    .dataframe tbody tr th:only-of-type {\n",
       "        vertical-align: middle;\n",
       "    }\n",
       "\n",
       "    .dataframe tbody tr th {\n",
       "        vertical-align: top;\n",
       "    }\n",
       "\n",
       "    .dataframe thead th {\n",
       "        text-align: right;\n",
       "    }\n",
       "</style>\n",
       "<table border=\"1\" class=\"dataframe\">\n",
       "  <thead>\n",
       "    <tr style=\"text-align: right;\">\n",
       "      <th></th>\n",
       "      <th>Age</th>\n",
       "      <th>BMI</th>\n",
       "      <th>Blood_Pressure</th>\n",
       "      <th>Cholesterol</th>\n",
       "      <th>Glucose</th>\n",
       "      <th>Heart_Rate</th>\n",
       "      <th>Smoking</th>\n",
       "      <th>Alcohol_Intake</th>\n",
       "      <th>Exercise_Frequency</th>\n",
       "      <th>Sleep_Hours</th>\n",
       "    </tr>\n",
       "  </thead>\n",
       "  <tbody>\n",
       "    <tr>\n",
       "      <th>count</th>\n",
       "      <td>500.000000</td>\n",
       "      <td>500.000000</td>\n",
       "      <td>500.000000</td>\n",
       "      <td>500.000000</td>\n",
       "      <td>500.000000</td>\n",
       "      <td>500.000000</td>\n",
       "      <td>500.000000</td>\n",
       "      <td>500.000000</td>\n",
       "      <td>500.000000</td>\n",
       "      <td>500.000000</td>\n",
       "    </tr>\n",
       "    <tr>\n",
       "      <th>mean</th>\n",
       "      <td>50.396000</td>\n",
       "      <td>28.594200</td>\n",
       "      <td>133.766000</td>\n",
       "      <td>210.406000</td>\n",
       "      <td>136.622000</td>\n",
       "      <td>85.214000</td>\n",
       "      <td>0.310000</td>\n",
       "      <td>0.440000</td>\n",
       "      <td>3.010000</td>\n",
       "      <td>6.422400</td>\n",
       "    </tr>\n",
       "    <tr>\n",
       "      <th>std</th>\n",
       "      <td>17.335982</td>\n",
       "      <td>6.288902</td>\n",
       "      <td>25.799971</td>\n",
       "      <td>53.199865</td>\n",
       "      <td>39.115715</td>\n",
       "      <td>19.473434</td>\n",
       "      <td>0.462956</td>\n",
       "      <td>0.496884</td>\n",
       "      <td>2.025365</td>\n",
       "      <td>1.468813</td>\n",
       "    </tr>\n",
       "    <tr>\n",
       "      <th>min</th>\n",
       "      <td>20.000000</td>\n",
       "      <td>18.100000</td>\n",
       "      <td>90.000000</td>\n",
       "      <td>120.000000</td>\n",
       "      <td>70.000000</td>\n",
       "      <td>50.000000</td>\n",
       "      <td>0.000000</td>\n",
       "      <td>0.000000</td>\n",
       "      <td>0.000000</td>\n",
       "      <td>4.000000</td>\n",
       "    </tr>\n",
       "    <tr>\n",
       "      <th>25%</th>\n",
       "      <td>36.750000</td>\n",
       "      <td>22.975000</td>\n",
       "      <td>111.000000</td>\n",
       "      <td>163.750000</td>\n",
       "      <td>101.000000</td>\n",
       "      <td>68.000000</td>\n",
       "      <td>0.000000</td>\n",
       "      <td>0.000000</td>\n",
       "      <td>1.000000</td>\n",
       "      <td>5.100000</td>\n",
       "    </tr>\n",
       "    <tr>\n",
       "      <th>50%</th>\n",
       "      <td>51.000000</td>\n",
       "      <td>28.400000</td>\n",
       "      <td>133.500000</td>\n",
       "      <td>209.500000</td>\n",
       "      <td>138.000000</td>\n",
       "      <td>85.500000</td>\n",
       "      <td>0.000000</td>\n",
       "      <td>0.000000</td>\n",
       "      <td>3.000000</td>\n",
       "      <td>6.400000</td>\n",
       "    </tr>\n",
       "    <tr>\n",
       "      <th>75%</th>\n",
       "      <td>65.000000</td>\n",
       "      <td>33.925000</td>\n",
       "      <td>155.000000</td>\n",
       "      <td>260.000000</td>\n",
       "      <td>173.000000</td>\n",
       "      <td>101.000000</td>\n",
       "      <td>1.000000</td>\n",
       "      <td>1.000000</td>\n",
       "      <td>5.000000</td>\n",
       "      <td>7.700000</td>\n",
       "    </tr>\n",
       "    <tr>\n",
       "      <th>max</th>\n",
       "      <td>79.000000</td>\n",
       "      <td>40.000000</td>\n",
       "      <td>179.000000</td>\n",
       "      <td>299.000000</td>\n",
       "      <td>199.000000</td>\n",
       "      <td>119.000000</td>\n",
       "      <td>1.000000</td>\n",
       "      <td>1.000000</td>\n",
       "      <td>6.000000</td>\n",
       "      <td>9.000000</td>\n",
       "    </tr>\n",
       "  </tbody>\n",
       "</table>\n",
       "</div>"
      ],
      "text/plain": [
       "              Age         BMI  Blood_Pressure  Cholesterol  ...     Smoking  Alcohol_Intake  Exercise_Frequency  Sleep_Hours\n",
       "count  500.000000  500.000000      500.000000   500.000000  ...  500.000000      500.000000          500.000000   500.000000\n",
       "mean    50.396000   28.594200      133.766000   210.406000  ...    0.310000        0.440000            3.010000     6.422400\n",
       "std     17.335982    6.288902       25.799971    53.199865  ...    0.462956        0.496884            2.025365     1.468813\n",
       "min     20.000000   18.100000       90.000000   120.000000  ...    0.000000        0.000000            0.000000     4.000000\n",
       "25%     36.750000   22.975000      111.000000   163.750000  ...    0.000000        0.000000            1.000000     5.100000\n",
       "50%     51.000000   28.400000      133.500000   209.500000  ...    0.000000        0.000000            3.000000     6.400000\n",
       "75%     65.000000   33.925000      155.000000   260.000000  ...    1.000000        1.000000            5.000000     7.700000\n",
       "max     79.000000   40.000000      179.000000   299.000000  ...    1.000000        1.000000            6.000000     9.000000\n",
       "\n",
       "[8 rows x 10 columns]"
      ]
     },
     "execution_count": 32,
     "metadata": {},
     "output_type": "execute_result"
    }
   ],
   "source": [
    "df.describe()"
   ]
  },
  {
   "cell_type": "code",
   "execution_count": 33,
   "id": "d370dfb3-649a-4ee0-b6f8-d86313c4a838",
   "metadata": {},
   "outputs": [],
   "source": [
    "import joblib\n",
    "from sklearn.preprocessing import LabelEncoder,StandardScaler\n",
    "from sklearn.svm import SVC\n",
    "from sklearn.tree import DecisionTreeClassifier\n",
    "from sklearn.metrics import classification_report\n",
    "from sklearn.ensemble import RandomForestClassifier\n",
    "from sklearn.model_selection import train_test_split\n",
    "from sklearn.linear_model import LogisticRegression\n",
    "import warnings\n",
    "warnings.filterwarnings(\"ignore\")"
   ]
  },
  {
   "cell_type": "code",
   "execution_count": 34,
   "id": "d9bb6715-9eeb-4e0a-b2ba-9418fca5a5fd",
   "metadata": {},
   "outputs": [
    {
     "name": "stdout",
     "output_type": "stream",
     "text": [
      "Female:0\n",
      "Male:1\n"
     ]
    }
   ],
   "source": [
    "le=LabelEncoder()\n",
    "df[\"Gender\"]=le.fit_transform(df[\"Gender\"])\n",
    "for label,i in enumerate(le.classes_):\n",
    "    print(f\"{i}:{label}\")"
   ]
  },
  {
   "cell_type": "code",
   "execution_count": 35,
   "id": "264f5057-5104-41a7-b9c9-3c8e1a71f44b",
   "metadata": {},
   "outputs": [
    {
     "name": "stdout",
     "output_type": "stream",
     "text": [
      "Diabetes:0\n",
      "Healthy:1\n",
      "Heart Disease:2\n",
      "Liver Problem:3\n"
     ]
    }
   ],
   "source": [
    "df[\"Health_Issue\"]=le.fit_transform(df[\"Health_Issue\"])\n",
    "for label,i in enumerate(le.classes_):\n",
    "    print(f\"{i}:{label}\")"
   ]
  },
  {
   "cell_type": "code",
   "execution_count": 36,
   "id": "17fcf760-70f6-46e7-8aa6-9a4fef78c568",
   "metadata": {},
   "outputs": [
    {
     "data": {
      "text/plain": [
       "Health_Issue\n",
       "2    209\n",
       "1    183\n",
       "0     90\n",
       "3     18\n",
       "Name: count, dtype: int64"
      ]
     },
     "execution_count": 36,
     "metadata": {},
     "output_type": "execute_result"
    }
   ],
   "source": [
    "df[\"Health_Issue\"].value_counts()"
   ]
  },
  {
   "cell_type": "code",
   "execution_count": 37,
   "id": "966cc408-90b5-4de4-87a3-b1a8a2171a79",
   "metadata": {},
   "outputs": [],
   "source": [
    "sd=StandardScaler()\n",
    "ft=[\"Age\",\"BMI\",\"Blood_Pressure\",\"Cholesterol\",\"Glucose\",\"Heart_Rate\"]\n",
    "df[ft]=sd.fit_transform(df[ft])"
   ]
  },
  {
   "cell_type": "code",
   "execution_count": 38,
   "id": "6d79227f-5cf9-4da7-acee-7829dcb2a68e",
   "metadata": {},
   "outputs": [
    {
     "data": {
      "text/html": [
       "<div>\n",
       "<style scoped>\n",
       "    .dataframe tbody tr th:only-of-type {\n",
       "        vertical-align: middle;\n",
       "    }\n",
       "\n",
       "    .dataframe tbody tr th {\n",
       "        vertical-align: top;\n",
       "    }\n",
       "\n",
       "    .dataframe thead th {\n",
       "        text-align: right;\n",
       "    }\n",
       "</style>\n",
       "<table border=\"1\" class=\"dataframe\">\n",
       "  <thead>\n",
       "    <tr style=\"text-align: right;\">\n",
       "      <th></th>\n",
       "      <th>Age</th>\n",
       "      <th>Gender</th>\n",
       "      <th>BMI</th>\n",
       "      <th>Blood_Pressure</th>\n",
       "      <th>Cholesterol</th>\n",
       "      <th>Glucose</th>\n",
       "      <th>Heart_Rate</th>\n",
       "      <th>Smoking</th>\n",
       "      <th>Alcohol_Intake</th>\n",
       "      <th>Exercise_Frequency</th>\n",
       "      <th>Sleep_Hours</th>\n",
       "      <th>Health_Issue</th>\n",
       "    </tr>\n",
       "  </thead>\n",
       "  <tbody>\n",
       "    <tr>\n",
       "      <th>0</th>\n",
       "      <td>0.439065</td>\n",
       "      <td>0</td>\n",
       "      <td>1.242445</td>\n",
       "      <td>1.638618</td>\n",
       "      <td>1.008417</td>\n",
       "      <td>1.21244</td>\n",
       "      <td>0.246017</td>\n",
       "      <td>0</td>\n",
       "      <td>0</td>\n",
       "      <td>3</td>\n",
       "      <td>6.1</td>\n",
       "      <td>0</td>\n",
       "    </tr>\n",
       "  </tbody>\n",
       "</table>\n",
       "</div>"
      ],
      "text/plain": [
       "        Age  Gender       BMI  Blood_Pressure  ...  Alcohol_Intake  Exercise_Frequency  Sleep_Hours  Health_Issue\n",
       "0  0.439065       0  1.242445        1.638618  ...               0                   3          6.1             0\n",
       "\n",
       "[1 rows x 12 columns]"
      ]
     },
     "execution_count": 38,
     "metadata": {},
     "output_type": "execute_result"
    }
   ],
   "source": [
    "df.head(1)"
   ]
  },
  {
   "cell_type": "code",
   "execution_count": 39,
   "id": "d1e06c5a-c9ef-4b21-96c7-bdc9c0fc760f",
   "metadata": {},
   "outputs": [],
   "source": [
    "fet=[\"Age\",\"Gender\",\"BMI\",\"Blood_Pressure\",\"Cholesterol\",\"Glucose\",\"Heart_Rate\",\"Smoking\",\"Alcohol_Intake\",\"Exercise_Frequency\",\"Sleep_Hours\"]\n",
    "x=df[fet]\n",
    "y=df[\"Health_Issue\"]\n",
    "xtrain,xtest,ytrain,ytest=train_test_split(x,y,test_size=0.2,random_state=42)"
   ]
  },
  {
   "cell_type": "code",
   "execution_count": 40,
   "id": "7d590638-6211-4c1a-adad-6e5bced8a8f8",
   "metadata": {},
   "outputs": [],
   "source": [
    "lg=LogisticRegression(max_iter=2000,solver='lbfgs',multi_class='multinomial')\n",
    "lg.fit(xtrain,ytrain)\n",
    "ypred1=lg.predict(xtest)"
   ]
  },
  {
   "cell_type": "code",
   "execution_count": 41,
   "id": "b20c1252-c614-4531-a7b9-dba543a82686",
   "metadata": {},
   "outputs": [
    {
     "name": "stdout",
     "output_type": "stream",
     "text": [
      "              precision    recall  f1-score   support\n",
      "\n",
      "           0       0.79      0.73      0.76        15\n",
      "           1       0.80      0.76      0.78        37\n",
      "           2       0.73      0.86      0.79        43\n",
      "           3       0.00      0.00      0.00         5\n",
      "\n",
      "    accuracy                           0.76       100\n",
      "   macro avg       0.58      0.59      0.58       100\n",
      "weighted avg       0.73      0.76      0.74       100\n",
      "\n"
     ]
    }
   ],
   "source": [
    "print(classification_report(ytest,ypred1))"
   ]
  },
  {
   "cell_type": "code",
   "execution_count": 42,
   "id": "f69a9f1f-1e9a-4653-8043-cecf519c410e",
   "metadata": {},
   "outputs": [
    {
     "name": "stdout",
     "output_type": "stream",
     "text": [
      "              precision    recall  f1-score   support\n",
      "\n",
      "           0       1.00      1.00      1.00        15\n",
      "           1       0.88      0.97      0.92        37\n",
      "           2       0.98      1.00      0.99        43\n",
      "           3       0.00      0.00      0.00         5\n",
      "\n",
      "    accuracy                           0.94       100\n",
      "   macro avg       0.71      0.74      0.73       100\n",
      "weighted avg       0.90      0.94      0.92       100\n",
      "\n"
     ]
    }
   ],
   "source": [
    "rc=RandomForestClassifier()\n",
    "rc.fit(xtrain,ytrain)\n",
    "ypred2=rc.predict(xtest)\n",
    "print(classification_report(ytest,ypred2))"
   ]
  },
  {
   "cell_type": "code",
   "execution_count": 43,
   "id": "7c856261-7151-4b95-9d0d-9f341d9d40f8",
   "metadata": {},
   "outputs": [
    {
     "name": "stdout",
     "output_type": "stream",
     "text": [
      "              precision    recall  f1-score   support\n",
      "\n",
      "           0       0.75      0.60      0.67        15\n",
      "           1       0.76      0.76      0.76        37\n",
      "           2       0.76      0.91      0.83        43\n",
      "           3       0.00      0.00      0.00         5\n",
      "\n",
      "    accuracy                           0.76       100\n",
      "   macro avg       0.57      0.57      0.56       100\n",
      "weighted avg       0.72      0.76      0.74       100\n",
      "\n"
     ]
    }
   ],
   "source": [
    "sv=SVC()\n",
    "sv.fit(xtrain,ytrain)\n",
    "ypred3=sv.predict(xtest)\n",
    "print(classification_report(ytest,ypred3))"
   ]
  },
  {
   "cell_type": "code",
   "execution_count": 44,
   "id": "8e0b933d-56d8-4cb9-b9c6-d6061c0afe40",
   "metadata": {},
   "outputs": [
    {
     "name": "stdout",
     "output_type": "stream",
     "text": [
      "              precision    recall  f1-score   support\n",
      "\n",
      "           0       1.00      1.00      1.00        15\n",
      "           1       0.97      1.00      0.99        37\n",
      "           2       1.00      1.00      1.00        43\n",
      "           3       1.00      0.80      0.89         5\n",
      "\n",
      "    accuracy                           0.99       100\n",
      "   macro avg       0.99      0.95      0.97       100\n",
      "weighted avg       0.99      0.99      0.99       100\n",
      "\n"
     ]
    }
   ],
   "source": [
    "dc=DecisionTreeClassifier()\n",
    "dc.fit(xtrain,ytrain)\n",
    "ypred4=dc.predict(xtest)\n",
    "print(classification_report(ytest,ypred4))"
   ]
  },
  {
   "cell_type": "code",
   "execution_count": 45,
   "id": "de4caf08-641f-4e33-9299-ebfa29d39a41",
   "metadata": {},
   "outputs": [
    {
     "data": {
      "text/plain": [
       "['C:\\\\Users\\\\91964\\\\Documents\\\\PROJECTS\\\\health testing\\\\Randomforestclassifier.pkl']"
      ]
     },
     "execution_count": 45,
     "metadata": {},
     "output_type": "execute_result"
    }
   ],
   "source": [
    "joblib.dump(rc,r\"C:\\Users\\91964\\Documents\\PROJECTS\\health testing\\Randomforestclassifier.pkl\")"
   ]
  },
  {
   "cell_type": "code",
   "execution_count": null,
   "id": "441c8a31-a60e-4195-b97e-665e069f1020",
   "metadata": {},
   "outputs": [],
   "source": []
  }
 ],
 "metadata": {
  "kernelspec": {
   "display_name": "Python 3 (ipykernel)",
   "language": "python",
   "name": "python3"
  },
  "language_info": {
   "codemirror_mode": {
    "name": "ipython",
    "version": 3
   },
   "file_extension": ".py",
   "mimetype": "text/x-python",
   "name": "python",
   "nbconvert_exporter": "python",
   "pygments_lexer": "ipython3",
   "version": "3.13.5"
  }
 },
 "nbformat": 4,
 "nbformat_minor": 5
}
